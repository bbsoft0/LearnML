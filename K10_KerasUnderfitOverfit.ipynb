{
 "cells": [
  {
   "cell_type": "markdown",
   "metadata": {},
   "source": [
    "# Keras Underfit Overfit\n"
   ]
  },
  {
   "cell_type": "code",
   "execution_count": 1,
   "metadata": {},
   "outputs": [],
   "source": [
    "# Setup plotting\n",
    "import matplotlib.pyplot as plt\n",
    "plt.style.use('seaborn-whitegrid')\n",
    "# Set Matplotlib defaults\n",
    "plt.rc('figure', autolayout=True)\n",
    "plt.rc('axes', labelweight='bold', labelsize='large',\n",
    "       titleweight='bold', titlesize=18, titlepad=10)\n",
    "plt.rc('animation', html='html5')\n"
   ]
  },
  {
   "cell_type": "code",
   "execution_count": 2,
   "metadata": {},
   "outputs": [
    {
     "name": "stdout",
     "output_type": "stream",
     "text": [
      "INFO:tensorflow:Enabling eager execution\n",
      "INFO:tensorflow:Enabling v2 tensorshape\n",
      "INFO:tensorflow:Enabling resource variables\n",
      "INFO:tensorflow:Enabling tensor equality\n",
      "INFO:tensorflow:Enabling control flow v2\n",
      "Input shape: [18]\n"
     ]
    }
   ],
   "source": [
    "import pandas as pd\n",
    "from sklearn.preprocessing import StandardScaler, OneHotEncoder\n",
    "from sklearn.compose import make_column_transformer\n",
    "from sklearn.model_selection import GroupShuffleSplit\n",
    "\n",
    "from tensorflow import keras\n",
    "from tensorflow.keras import layers\n",
    "from tensorflow.keras import callbacks\n",
    "\n",
    "spotify = pd.read_csv('./inputKaggle/spotify.csv')\n",
    "\n",
    "X = spotify.copy().dropna()\n",
    "y = X.pop('track_popularity')\n",
    "artists = X['track_artist']\n",
    "\n",
    "features_num = ['danceability', 'energy', 'key', 'loudness', 'mode',\n",
    "                'speechiness', 'acousticness', 'instrumentalness',\n",
    "                'liveness', 'valence', 'tempo', 'duration_ms']\n",
    "features_cat = ['playlist_genre']\n",
    "\n",
    "preprocessor = make_column_transformer(\n",
    "    (StandardScaler(), features_num),\n",
    "    (OneHotEncoder(), features_cat),\n",
    ")\n",
    "\n",
    "# We'll do a \"grouped\" split to keep all of an artist's songs in one\n",
    "# split or the other. This is to help prevent signal leakage.\n",
    "\n",
    "\n",
    "def group_split(X, y, group, train_size=0.75):\n",
    "    splitter = GroupShuffleSplit(train_size=train_size)\n",
    "    train, test = next(splitter.split(X, y, groups=group))\n",
    "    return (X.iloc[train], X.iloc[test], y.iloc[train], y.iloc[test])\n",
    "\n",
    "\n",
    "X_train, X_valid, y_train, y_valid = group_split(X, y, artists)\n",
    "\n",
    "X_train = preprocessor.fit_transform(X_train)\n",
    "X_valid = preprocessor.transform(X_valid)\n",
    "# popularity is on a scale 0-100, so this rescales to 0-1.\n",
    "y_train = y_train / 100\n",
    "y_valid = y_valid / 100\n",
    "\n",
    "input_shape = [X_train.shape[1]]\n",
    "print(\"Input shape: {}\".format(input_shape))\n"
   ]
  },
  {
   "cell_type": "code",
   "execution_count": 3,
   "metadata": {},
   "outputs": [
    {
     "name": "stdout",
     "output_type": "stream",
     "text": [
      "Minimum Validation Loss: 0.1971\n"
     ]
    },
    {
     "data": {
      "image/png": "[encoded data removed]",
      "text/plain": [
       "<Figure size 432x288 with 1 Axes>"
      ]
     },
     "metadata": {},
     "output_type": "display_data"
    }
   ],
   "source": [
    "#Let's start with the simplest network, a linear model. This model has low capacity.\n",
    "model = keras.Sequential([\n",
    "    layers.Dense(1, input_shape=input_shape),\n",
    "])\n",
    "model.compile(\n",
    "    optimizer='adam',\n",
    "    loss='mae',\n",
    ")\n",
    "history = model.fit(\n",
    "    X_train, y_train,\n",
    "    validation_data=(X_valid, y_valid),\n",
    "    batch_size=512,\n",
    "    epochs=50,\n",
    "    verbose=0,  # suppress output since we'll plot the curves\n",
    ")\n",
    "history_df = pd.DataFrame(history.history)\n",
    "history_df.loc[0:, ['loss', 'val_loss']].plot()\n",
    "print(\"Minimum Validation Loss: {:0.4f}\".format(history_df['val_loss'].min()))\n"
   ]
  },
  {
   "cell_type": "code",
   "execution_count": 4,
   "metadata": {},
   "outputs": [
    {
     "name": "stdout",
     "output_type": "stream",
     "text": [
      "Minimum Validation Loss: 0.1971\n"
     ]
    },
    {
     "data": {
      "image/png": "[encoded data removed]",
      "text/plain": [
       "<Figure size 432x288 with 1 Axes>"
      ]
     },
     "metadata": {},
     "output_type": "display_data"
    }
   ],
   "source": [
    "# Start the plot at epoch 10\n",
    "history_df.loc[10:, ['loss', 'val_loss']].plot()\n",
    "print(\"Minimum Validation Loss: {:0.4f}\".format(history_df['val_loss'].min()))\n"
   ]
  },
  {
   "cell_type": "code",
   "execution_count": 5,
   "metadata": {},
   "outputs": [
    {
     "name": "stdout",
     "output_type": "stream",
     "text": [
      "Epoch 1/50\n",
      "49/49 [==============================] - 1s 8ms/step - loss: 0.3354 - val_loss: 0.2147\n",
      "Epoch 2/50\n",
      "49/49 [==============================] - 0s 5ms/step - loss: 0.2322 - val_loss: 0.2132\n",
      "Epoch 3/50\n",
      "49/49 [==============================] - 0s 4ms/step - loss: 0.2184 - val_loss: 0.2092\n",
      "Epoch 4/50\n",
      "49/49 [==============================] - 0s 5ms/step - loss: 0.2124 - val_loss: 0.2043\n",
      "Epoch 5/50\n",
      "49/49 [==============================] - 0s 5ms/step - loss: 0.2086 - val_loss: 0.2057\n",
      "Epoch 6/50\n",
      "49/49 [==============================] - 0s 5ms/step - loss: 0.2046 - val_loss: 0.2029\n",
      "Epoch 7/50\n",
      "49/49 [==============================] - 0s 4ms/step - loss: 0.2030 - val_loss: 0.2022\n",
      "Epoch 8/50\n",
      "49/49 [==============================] - 0s 4ms/step - loss: 0.2006 - val_loss: 0.2018\n",
      "Epoch 9/50\n",
      "49/49 [==============================] - 0s 6ms/step - loss: 0.1998 - val_loss: 0.1992\n",
      "Epoch 10/50\n",
      "49/49 [==============================] - 0s 5ms/step - loss: 0.1982 - val_loss: 0.1989\n",
      "Epoch 11/50\n",
      "49/49 [==============================] - 0s 4ms/step - loss: 0.1983 - val_loss: 0.1975\n",
      "Epoch 12/50\n",
      "49/49 [==============================] - 0s 4ms/step - loss: 0.1978 - val_loss: 0.1969\n",
      "Epoch 13/50\n",
      "49/49 [==============================] - 0s 5ms/step - loss: 0.1950 - val_loss: 0.1981\n",
      "Epoch 14/50\n",
      "49/49 [==============================] - 0s 5ms/step - loss: 0.1953 - val_loss: 0.1985\n",
      "Epoch 15/50\n",
      "49/49 [==============================] - 0s 4ms/step - loss: 0.1946 - val_loss: 0.1986\n",
      "Epoch 16/50\n",
      "49/49 [==============================] - 0s 5ms/step - loss: 0.1935 - val_loss: 0.1978\n",
      "Epoch 17/50\n",
      "49/49 [==============================] - 0s 6ms/step - loss: 0.1946 - val_loss: 0.1973\n",
      "Epoch 18/50\n",
      "49/49 [==============================] - 0s 6ms/step - loss: 0.1942 - val_loss: 0.1957\n",
      "Epoch 19/50\n",
      "49/49 [==============================] - 0s 6ms/step - loss: 0.1951 - val_loss: 0.1965\n",
      "Epoch 20/50\n",
      "49/49 [==============================] - 0s 6ms/step - loss: 0.1942 - val_loss: 0.1955\n",
      "Epoch 21/50\n",
      "49/49 [==============================] - 0s 6ms/step - loss: 0.1934 - val_loss: 0.1952\n",
      "Epoch 22/50\n",
      "49/49 [==============================] - 0s 6ms/step - loss: 0.1922 - val_loss: 0.1949\n",
      "Epoch 23/50\n",
      "49/49 [==============================] - 0s 8ms/step - loss: 0.1945 - val_loss: 0.1948\n",
      "Epoch 24/50\n",
      "49/49 [==============================] - 0s 6ms/step - loss: 0.1927 - val_loss: 0.1955\n",
      "Epoch 25/50\n",
      "49/49 [==============================] - 0s 6ms/step - loss: 0.1937 - val_loss: 0.1954\n",
      "Epoch 26/50\n",
      "49/49 [==============================] - 0s 6ms/step - loss: 0.1916 - val_loss: 0.1944\n",
      "Epoch 27/50\n",
      "49/49 [==============================] - 0s 6ms/step - loss: 0.1919 - val_loss: 0.1963\n",
      "Epoch 28/50\n",
      "49/49 [==============================] - 0s 5ms/step - loss: 0.1916 - val_loss: 0.1952\n",
      "Epoch 29/50\n",
      "49/49 [==============================] - 0s 5ms/step - loss: 0.1919 - val_loss: 0.1948\n",
      "Epoch 30/50\n",
      "49/49 [==============================] - 0s 6ms/step - loss: 0.1918 - val_loss: 0.1947\n",
      "Epoch 31/50\n",
      "49/49 [==============================] - 0s 7ms/step - loss: 0.1907 - val_loss: 0.1941\n",
      "Epoch 32/50\n",
      "49/49 [==============================] - 0s 6ms/step - loss: 0.1916 - val_loss: 0.1960\n",
      "Epoch 33/50\n",
      "49/49 [==============================] - 0s 7ms/step - loss: 0.1914 - val_loss: 0.1946\n",
      "Epoch 34/50\n",
      "49/49 [==============================] - 0s 6ms/step - loss: 0.1911 - val_loss: 0.1945\n",
      "Epoch 35/50\n",
      "49/49 [==============================] - 0s 6ms/step - loss: 0.1909 - val_loss: 0.1945\n",
      "Epoch 36/50\n",
      "49/49 [==============================] - 0s 6ms/step - loss: 0.1907 - val_loss: 0.1942\n",
      "Epoch 37/50\n",
      "49/49 [==============================] - 0s 6ms/step - loss: 0.1897 - val_loss: 0.1944\n",
      "Epoch 38/50\n",
      "49/49 [==============================] - 0s 6ms/step - loss: 0.1893 - val_loss: 0.1941\n",
      "Epoch 39/50\n",
      "49/49 [==============================] - 0s 6ms/step - loss: 0.1905 - val_loss: 0.1939\n",
      "Epoch 40/50\n",
      "49/49 [==============================] - 0s 6ms/step - loss: 0.1904 - val_loss: 0.1941\n",
      "Epoch 41/50\n",
      "49/49 [==============================] - 0s 6ms/step - loss: 0.1909 - val_loss: 0.1945\n",
      "Epoch 42/50\n",
      "49/49 [==============================] - 0s 5ms/step - loss: 0.1902 - val_loss: 0.1942\n",
      "Epoch 43/50\n",
      "49/49 [==============================] - 0s 6ms/step - loss: 0.1894 - val_loss: 0.1946\n",
      "Epoch 44/50\n",
      "49/49 [==============================] - 0s 6ms/step - loss: 0.1903 - val_loss: 0.1943\n",
      "Epoch 45/50\n",
      "49/49 [==============================] - 0s 6ms/step - loss: 0.1887 - val_loss: 0.1946\n",
      "Epoch 46/50\n",
      "49/49 [==============================] - 0s 6ms/step - loss: 0.1901 - val_loss: 0.1942\n",
      "Epoch 47/50\n",
      "49/49 [==============================] - 0s 6ms/step - loss: 0.1886 - val_loss: 0.1943\n",
      "Epoch 48/50\n",
      "49/49 [==============================] - 0s 6ms/step - loss: 0.1897 - val_loss: 0.1953\n",
      "Epoch 49/50\n",
      "49/49 [==============================] - 0s 7ms/step - loss: 0.1886 - val_loss: 0.1943\n",
      "Epoch 50/50\n",
      "49/49 [==============================] - 0s 6ms/step - loss: 0.1885 - val_loss: 0.1936\n",
      "Minimum Validation Loss: 0.1936\n"
     ]
    },
    {
     "data": {
      "image/png": "[encoded data removed]",
      "text/plain": [
       "<Figure size 432x288 with 1 Axes>"
      ]
     },
     "metadata": {},
     "output_type": "display_data"
    }
   ],
   "source": [
    "#Model is underfitting\n",
    "#Let's add some capacity to our network. We'll add three hidden layers with 128 units each.\n",
    "model = keras.Sequential([\n",
    "    layers.Dense(128, activation='relu', input_shape=input_shape),\n",
    "    layers.Dropout(0.3),\n",
    "    layers.Dense(64, activation='relu'),\n",
    "    layers.Dropout(0.3),\n",
    "    layers.Dense(1)\n",
    "])\n",
    "model.compile(\n",
    "    optimizer='adam',\n",
    "    loss='mae',\n",
    ")\n",
    "history = model.fit(\n",
    "    X_train, y_train,\n",
    "    validation_data=(X_valid, y_valid),\n",
    "    batch_size=512,\n",
    "    epochs=50,\n",
    ")\n",
    "history_df = pd.DataFrame(history.history)\n",
    "history_df.loc[:, ['loss', 'val_loss']].plot()\n",
    "print(\"Minimum Validation Loss: {:0.4f}\".format(history_df['val_loss'].min()))\n"
   ]
  },
  {
   "cell_type": "code",
   "execution_count": 6,
   "metadata": {},
   "outputs": [],
   "source": [
    "# Now the validation loss begins to rise very early, while the training loss continues to decrease.\n",
    "#  This indicates that the network has begun to overfit. \n",
    "# At this point, we would need to try something to prevent it, \n",
    "# either by reducing the number of units or through a method like early stopping.\n",
    "#Now define an early stopping callback that waits 5 epochs(`patience'`) for a change in validation loss \n",
    "# of at least `0.001` (`min_delta`) and keeps the weights with the best loss(`restore_best_weights`).\n",
    "from tensorflow.keras import callbacks\n",
    "\n",
    "# YOUR CODE HERE: define an early stopping callback\n",
    "early_stopping = callbacks.EarlyStopping(\n",
    "    patience=5,\n",
    "    min_delta=0.001,\n",
    "    restore_best_weights=True,\n",
    ")\n"
   ]
  },
  {
   "cell_type": "code",
   "execution_count": 7,
   "metadata": {},
   "outputs": [
    {
     "name": "stdout",
     "output_type": "stream",
     "text": [
      "Epoch 1/50\n",
      "49/49 [==============================] - 0s 5ms/step - loss: 0.2771 - val_loss: 0.2070\n",
      "Epoch 2/50\n",
      "49/49 [==============================] - 0s 3ms/step - loss: 0.2042 - val_loss: 0.2027\n",
      "Epoch 3/50\n",
      "49/49 [==============================] - 0s 3ms/step - loss: 0.1949 - val_loss: 0.1999\n",
      "Epoch 4/50\n",
      "49/49 [==============================] - 0s 4ms/step - loss: 0.1936 - val_loss: 0.2031\n",
      "Epoch 5/50\n",
      "49/49 [==============================] - 0s 4ms/step - loss: 0.1926 - val_loss: 0.1990\n",
      "Epoch 6/50\n",
      "49/49 [==============================] - 0s 3ms/step - loss: 0.1890 - val_loss: 0.2007\n",
      "Epoch 7/50\n",
      "49/49 [==============================] - 0s 3ms/step - loss: 0.1894 - val_loss: 0.1983\n",
      "Epoch 8/50\n",
      "49/49 [==============================] - 0s 3ms/step - loss: 0.1861 - val_loss: 0.1994\n",
      "Epoch 9/50\n",
      "49/49 [==============================] - 0s 3ms/step - loss: 0.1843 - val_loss: 0.1985\n",
      "Epoch 10/50\n",
      "49/49 [==============================] - 0s 3ms/step - loss: 0.1846 - val_loss: 0.1999\n",
      "Epoch 11/50\n",
      "49/49 [==============================] - 0s 3ms/step - loss: 0.1841 - val_loss: 0.2012\n",
      "Epoch 12/50\n",
      "49/49 [==============================] - 0s 4ms/step - loss: 0.1835 - val_loss: 0.1993\n",
      "Minimum Validation Loss: 0.1983\n"
     ]
    },
    {
     "data": {
      "image/png": "[encoded data removed]",
      "text/plain": [
       "<Figure size 432x288 with 1 Axes>"
      ]
     },
     "metadata": {},
     "output_type": "display_data"
    }
   ],
   "source": [
    "#Now run this cell to train the model and get the learning curves. \n",
    "# Notice the `callbacks` argument in `model.fit`.\n",
    "model = keras.Sequential([\n",
    "    layers.Dense(128, activation='relu', input_shape=input_shape),\n",
    "    layers.Dense(64, activation='relu'),\n",
    "    layers.Dense(1)\n",
    "])\n",
    "model.compile(\n",
    "    optimizer='adam',\n",
    "    loss='mae',\n",
    ")\n",
    "history = model.fit(\n",
    "    X_train, y_train,\n",
    "    validation_data=(X_valid, y_valid),\n",
    "    batch_size=512,\n",
    "    epochs=50,\n",
    "    callbacks=[early_stopping]\n",
    ")\n",
    "history_df = pd.DataFrame(history.history)\n",
    "history_df.loc[:, ['loss', 'val_loss']].plot()\n",
    "print(\"Minimum Validation Loss: {:0.4f}\".format(history_df['val_loss'].min()))\n"
   ]
  },
  {
   "cell_type": "code",
   "execution_count": 8,
   "metadata": {},
   "outputs": [],
   "source": [
    "# This was an improvement\n",
    "#The early stopping callback did stop the training once the network began overfitting. \n",
    "# Moreover, by including restore_best_weights we still get to keep the model where validation loss \n",
    "# was lowest.\n",
    "#If you like, try experimenting with `patience` and `min_delta` to see what difference it might make.\n"
   ]
  }
 ],
 "metadata": {
  "hide_input": false,
  "interpreter": {
   "hash": "31f2aee4e71d21fbe5cf8b01ff0e069b9275f58929596ceb00d14d90e3e16cd6"
  },
  "kernelspec": {
   "display_name": "Python 3.9.5 64-bit",
   "name": "python3"
  },
  "language_info": {
   "codemirror_mode": {
    "name": "ipython",
    "version": 3
   },
   "file_extension": ".py",
   "mimetype": "text/x-python",
   "name": "python",
   "nbconvert_exporter": "python",
   "pygments_lexer": "ipython3",
   "version": "3.9.5"
  }
 },
 "nbformat": 4,
 "nbformat_minor": 1
}
